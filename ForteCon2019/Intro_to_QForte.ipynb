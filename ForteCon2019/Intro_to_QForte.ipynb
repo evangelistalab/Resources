{
 "cells": [
  {
   "cell_type": "markdown",
   "metadata": {},
   "source": [
    "# An introduction to quantum computing, its benifits in electronic structure, and QForte usage"
   ]
  },
  {
   "cell_type": "markdown",
   "metadata": {},
   "source": [
    "## 1) Introduction to quantum computing"
   ]
  },
  {
   "cell_type": "markdown",
   "metadata": {},
   "source": [
    "Quantum computing has the potential to be a trillion dollar industry if large scale quantum processing units can be physically realized. Applications range form quantum neural networs, to molecular electronic structure. "
   ]
  },
  {
   "cell_type": "markdown",
   "metadata": {},
   "source": [
    "### Why are quantum computers useful?"
   ]
  },
  {
   "cell_type": "markdown",
   "metadata": {},
   "source": [
    "The real advantage of quantum computers can be illistrate with two points when comparing with a classical digital computer. \n",
    "\n",
    "1) For both a classical and a quantum computer with $n$ bits (qubits) there are $2^n$ states which can be represented, for example if you have three bits, the eight availible configurations are:\n",
    "\n",
    "{$| 000 \\rangle$, $| 100 \\rangle$, $| 010 \\rangle$, $| 110 \\rangle$, $| 001 \\rangle$, $| 101 \\rangle$,$| 011 \\rangle$, and $| 111 \\rangle$} \n",
    "\n",
    "The key insight here is that for a classical computer $\\textit{only one of the eight configurations can be represented at a single instant in time}$! You can change between them but can represent them simultaniously. The paramount difference between a quantum and calssical computer is that a quantum computer $\\textit{can represent many (up to eight) configurations simultaniously}$!\n",
    "\n",
    "$|\\Psi_{QC} \\rangle = \\frac{1}{\\sqrt{2}}| 000 \\rangle + \\frac{1}{\\sqrt{2}}| 101 \\rangle$\n",
    "\n",
    "This allows for potential circomvention of memory bottlenecks which pleagues many classical agorithms. \n",
    "$\\textit{It is actually the coeficients for the QC state vector which hold the information of interes!}$\n",
    "\n",
    "2) Operations can be performed in constant time on a quantum computer. For example, if you have a classical vector of length $N$ and you want to edit every element in some way, each element must be individually accessed and alteraed, a proccess where the complexity obviously grows with $N$. Once again this is not true for quantum computers, where all elements of the vector (represented as the pure state coefficeints) can be altered simultaniously!  "
   ]
  },
  {
   "cell_type": "markdown",
   "metadata": {},
   "source": [
    "### How quantum computers work in practice: the quantum circuit paradigm"
   ]
  },
  {
   "cell_type": "markdown",
   "metadata": {},
   "source": [
    "The above descriptoin still isn't quite adequate to fully understand the utility of quantum computers. Having a quantum computer is like having 10,000 horse power engine that won't fit in any existing car, you need a new paradigm for car design and its importnat to realize that the car you build might only win certain types of races. The circut model of quantum computation is a good starting place for understanding modern quantum computers.\n",
    "\n",
    "As mentioned above, the information carrying capacity for a quantum computer is held by the coeficients in the quantum state vector $| \\Psi_{QC} \\rangle$ (the $\\frac{1}{\\sqrt{2}}$ factors in the expression above). A circut based quantum computer utilizes a set of instructions (a curcuit comprised of a product of elementary gates) to prepare the possible configurations of qubtis into a specific state.\n",
    "\n",
    "As luck would have it, any arbitray state $| \\Psi_{QC} \\rangle$ can be represented by applying some (possibly large) combination of only a few quantum gates (called a universal set). The $X$, $Y$, $Z$, $H$, and controlled-$X$ (or CNOT) gates are very common in may quantum algorithms and represent the most fundemental action on the quantum bits.  "
   ]
  },
  {
   "cell_type": "markdown",
   "metadata": {},
   "source": [
    "##### Below are the actions of a few important single qubit gates on the target 0th qubit:\n",
    "\n",
    "$X_0|0\\rangle = |1 \\rangle $\n",
    "\n",
    "$X_0|1\\rangle = |0 \\rangle $\n",
    "\n",
    "\n",
    "$Y_0|0\\rangle =  i|1 \\rangle $\n",
    "\n",
    "$Y_0|1\\rangle = -i|0 \\rangle $\n",
    "\n",
    "\n",
    "$Z_0|0\\rangle =  |1 \\rangle $\n",
    "\n",
    "$Z_0|1\\rangle = -|0 \\rangle $\n",
    "\n",
    "\n",
    "$H_0|0\\rangle =  \\frac{1}{\\sqrt{2}}|0 \\rangle + \\frac{1}{\\sqrt{2}}|1 \\rangle $\n",
    "\n",
    "$H_0|1\\rangle =  \\frac{1}{\\sqrt{2}}|0 \\rangle - \\frac{1}{\\sqrt{2}}|1 \\rangle $ \n",
    "\n",
    "##### Below is the CNOT gate (notice it has both target and control indicies $cX_{t,c}$)\n",
    "\n",
    "$cX_{1,0}|10\\rangle = |01 \\rangle $\n",
    "\n",
    "$cX_{1,0}|00\\rangle = |00 \\rangle $\n"
   ]
  },
  {
   "cell_type": "markdown",
   "metadata": {},
   "source": [
    "### Example 1: creating a single qubit superposition"
   ]
  },
  {
   "cell_type": "markdown",
   "metadata": {},
   "source": [
    "We would like to design a very simple circuit $(U)$ such that acting $U$ on the zero state $U| \\bar{0} \\rangle$ (the state where all the qubits are spin-down, for a single qubit it is just $|0\\rangle$), is then is superposition. We can use qforte! "
   ]
  },
  {
   "cell_type": "code",
   "execution_count": 1,
   "metadata": {},
   "outputs": [],
   "source": [
    "import qforte as qf"
   ]
  },
  {
   "cell_type": "code",
   "execution_count": 2,
   "metadata": {},
   "outputs": [],
   "source": [
    "# Initialize a QuantumComputer object with nqubits, by default to the zero state.\n",
    "nqubits = 1\n",
    "myQC = qf.QuantumComputer(nqubits)"
   ]
  },
  {
   "cell_type": "markdown",
   "metadata": {},
   "source": [
    "##### Question 1: What will the quantum vector state look like if we print it?"
   ]
  },
  {
   "cell_type": "markdown",
   "metadata": {},
   "source": [
    "my answer:"
   ]
  },
  {
   "cell_type": "markdown",
   "metadata": {},
   "source": [
    "##### Answer 1:"
   ]
  },
  {
   "cell_type": "code",
   "execution_count": 3,
   "metadata": {},
   "outputs": [
    {
     "name": "stdout",
     "output_type": "stream",
     "text": [
      "\n",
      " Quantum Computer:\n",
      "(1.000000 +0.000000 i) |0>\n",
      "(0.000000 +0.000000 i) |1>\n"
     ]
    }
   ],
   "source": [
    "# Use the qforte.smar_print() function!\n",
    "qf.smart_print(myQC)"
   ]
  },
  {
   "cell_type": "markdown",
   "metadata": {},
   "source": [
    "Now we can use the Hadamard $(H)$ gate to put the qubit in a superposition!"
   ]
  },
  {
   "cell_type": "code",
   "execution_count": 4,
   "metadata": {},
   "outputs": [],
   "source": [
    "# Make a Hadamard gate to apply to our QuantumComputer\n",
    "target = 0\n",
    "control = 0\n",
    "H0 = qf.make_gate('H',target,control)\n",
    "\n",
    "# Apply the gate\n",
    "myQC.apply_gate(H0)"
   ]
  },
  {
   "cell_type": "markdown",
   "metadata": {},
   "source": [
    "##### Question 2: What will the new quantum vector state look like if we print it?"
   ]
  },
  {
   "cell_type": "markdown",
   "metadata": {},
   "source": [
    "my answer:"
   ]
  },
  {
   "cell_type": "markdown",
   "metadata": {},
   "source": [
    "##### Answer 2:"
   ]
  },
  {
   "cell_type": "code",
   "execution_count": 5,
   "metadata": {},
   "outputs": [
    {
     "name": "stdout",
     "output_type": "stream",
     "text": [
      "\n",
      " Quantum Computer:\n",
      "(0.707107 +0.000000 i) |0>\n",
      "(0.707107 +0.000000 i) |1>\n"
     ]
    }
   ],
   "source": [
    "qf.smart_print(myQC)"
   ]
  },
  {
   "cell_type": "markdown",
   "metadata": {},
   "source": [
    "Yay, we have a single qubit in superposition! :D"
   ]
  },
  {
   "cell_type": "markdown",
   "metadata": {},
   "source": [
    "##### Exercise 1a: initialize a one qubit Quantum Computer and design a circuit which will build the state $|\\Psi_a \\rangle$"
   ]
  },
  {
   "cell_type": "markdown",
   "metadata": {},
   "source": [
    "$|\\Psi_a \\rangle = \\frac{1}{\\sqrt{2}}|0 \\rangle - \\frac{1}{\\sqrt{2}}|1 \\rangle$"
   ]
  },
  {
   "cell_type": "code",
   "execution_count": 6,
   "metadata": {},
   "outputs": [],
   "source": [
    "# My code:\n",
    "\n"
   ]
  },
  {
   "cell_type": "markdown",
   "metadata": {},
   "source": [
    "##### Exercise 1b: initialize a two qubit Quantum Computer and design a circuit which will build the state $|\\Psi_b \\rangle$"
   ]
  },
  {
   "cell_type": "markdown",
   "metadata": {},
   "source": [
    "$|\\Psi_b \\rangle = \\frac{1}{\\sqrt{2}}|00 \\rangle + \\frac{1}{\\sqrt{2}}|11 \\rangle$"
   ]
  },
  {
   "cell_type": "code",
   "execution_count": 7,
   "metadata": {},
   "outputs": [],
   "source": [
    "# My code:\n",
    "\n"
   ]
  },
  {
   "cell_type": "markdown",
   "metadata": {},
   "source": [
    "### Extracting information via measurement"
   ]
  },
  {
   "cell_type": "markdown",
   "metadata": {},
   "source": [
    "Measurment, or the process of determining whether particular qubits are spin-up vs spin-down, is an often neglected as part of the canonical elevator pitch for how quantum computers work. It is none-the-less essential becuase it address the question of \"How do you actually determine the output of a quantum computation?\" "
   ]
  },
  {
   "cell_type": "markdown",
   "metadata": {},
   "source": [
    "The only question you can ask the quantum computer is \"What state is qubit $j$ in? Spin-up or spin-down?\""
   ]
  },
  {
   "cell_type": "markdown",
   "metadata": {},
   "source": [
    "The measurement deal is tricky because asking the above question results in a probababalistic answer. This is a caveot whith quantum computing, a single reading of the register (determing the up/down (0/1) states of all the qubits) will generally not result in the correct answer. Measuring the qubits will collapse the qubit into an eigenstate. It is terefore nececary to repeat measurements many times and to avarage the results! "
   ]
  },
  {
   "cell_type": "markdown",
   "metadata": {},
   "source": [
    "### Example 2: Measuring with respect to an operator"
   ]
  },
  {
   "cell_type": "markdown",
   "metadata": {},
   "source": [
    "Measurement is usually done with respect to a hermetian operaotor (although measuring non-hermitian operators as is the case with off diagonal matrix elements is also possible). As an example let us consider the example of measuring the expectation value of the $Z$ operator for the single qubit superposition $|\\Psi_{QC}\\rangle = \\frac{1}{\\sqrt{2}}|0 \\rangle + \\frac{1}{\\sqrt{2}}|1 \\rangle$"
   ]
  },
  {
   "cell_type": "markdown",
   "metadata": {},
   "source": [
    "If invesigated from a linear algebraic perspective one could see that $\\langle \\Psi_{QC}|Z|\\Psi_{QC}\\rangle = 0$. However, performing a single measurement will only result in value of +1 or -1!  "
   ]
  },
  {
   "cell_type": "markdown",
   "metadata": {},
   "source": [
    "Lets investigate using QForte!"
   ]
  },
  {
   "cell_type": "code",
   "execution_count": 8,
   "metadata": {},
   "outputs": [
    {
     "name": "stdout",
     "output_type": "stream",
     "text": [
      "\n",
      " Quantum Computer:\n",
      "(0.707107 +0.000000 i) |0>\n",
      "(0.707107 +0.000000 i) |1>\n"
     ]
    }
   ],
   "source": [
    "# First lets set up a circuit defined as a vector of QuantmGates\n",
    "# to initialize it to the superposition state\n",
    "myCirc = qf.QuantumCircuit()\n",
    "H0 = qf.make_gate('H',0,0)\n",
    "myCirc.add_gate(H0)\n",
    "\n",
    "# Initialize a QuantumComputer\n",
    "nqubits = 1\n",
    "myQC = qf.QuantumComputer(nqubits)\n",
    "\n",
    "# Make sure our circuit does what we want it to\n",
    "myQC.apply_circuit(myCirc)\n",
    "qf.smart_print(myQC)"
   ]
  },
  {
   "cell_type": "code",
   "execution_count": 9,
   "metadata": {},
   "outputs": [],
   "source": [
    "# Now lets define a (hemetian) operator to measure, this is defined as \n",
    "# a vector of QuantumCircuits \n",
    "myOpToMeasure = qf.QuantumOperator()\n",
    "myCircToMeasure = qf.QuantumCircuit()\n",
    "myGateToMeasure = qf.make_gate('Z',0,0)\n",
    "\n",
    "# Add things together to construct the operator\n",
    "myCircToMeasure.add_gate(myGateToMeasure)\n",
    "myOpToMeasure.add_term(1.0, myCircToMeasure)\n"
   ]
  },
  {
   "cell_type": "markdown",
   "metadata": {},
   "source": [
    "Now lets make an experiment usig a finite number of measurements N"
   ]
  },
  {
   "cell_type": "code",
   "execution_count": 10,
   "metadata": {},
   "outputs": [
    {
     "name": "stdout",
     "output_type": "stream",
     "text": [
      "The measured average using  1  measurement(s) is:  1.0\n"
     ]
    }
   ],
   "source": [
    "# First just try a single measruement\n",
    "N = 1\n",
    "myExperiment = qf.Experiment(nqubits, myCirc, myOpToMeasure, N)\n",
    "average = myExperiment.experimental_avg([])\n",
    "print('The measured average using ', N, ' measurement(s) is: ', average)"
   ]
  },
  {
   "cell_type": "markdown",
   "metadata": {},
   "source": [
    "#### Exercise 2: using the N values in Nvec, analyze the trend for measuring $\\langle Z \\rangle$"
   ]
  },
  {
   "cell_type": "code",
   "execution_count": 11,
   "metadata": {},
   "outputs": [],
   "source": [
    "Nvec = [int(1e0), int(1e1), int(1e2), int(1e3), int(1e4), int(1e5), int(1e6), int(1e7)]\n",
    "# My code:"
   ]
  },
  {
   "cell_type": "markdown",
   "metadata": {},
   "source": [
    "## 2) Quantum computers for quantium simulation"
   ]
  },
  {
   "cell_type": "markdown",
   "metadata": {},
   "source": [
    "At this point it is possible to make the case that quantum computers are natrually amenable to simulating quantum mechanical systems such as spin lattices or molecules. If one takes the quantum vector state $| \\Psi_{QC} \\rangle$ as a representation for the eigen state in Fock (or Hilbert) space of a particular Hamiltonian, one can see that state preparation via circuit application and measurement of the Hamiltonian operator are natural operations.  "
   ]
  },
  {
   "cell_type": "markdown",
   "metadata": {},
   "source": [
    "### Example 3: Measuring the HF Energy of H$_2$"
   ]
  },
  {
   "cell_type": "markdown",
   "metadata": {},
   "source": [
    "We can now consider a more specific example, that of the Hydrogen dimer. In a minimal basis (STO-3G), H$_2$ has only 4 spin orbits (2 spatial), each which can be represented by a qubit (indexed as $1\\alpha, 1\\beta, 1\\alpha, 2\\beta, ..., n\\alpha, n\\beta$). Using spin-up(1)/spin-down(0) qubits to represent occuped/unoccupied spin orbtials, respecively, one can represent the Hartee-Fock state on the quantum computer as:\n",
    "\n",
    "$|\\Psi_{HF} \\rangle = |\\Psi_{QC} \\rangle = 1.0|1100 \\rangle$"
   ]
  },
  {
   "cell_type": "markdown",
   "metadata": {},
   "source": [
    "#### Exercise 3a: Create a QuantumCircut which can prepare the Hartree Fock state on the quantum computer"
   ]
  },
  {
   "cell_type": "code",
   "execution_count": 12,
   "metadata": {},
   "outputs": [],
   "source": [
    "# Build the circuit from a series of gates\n",
    "HFcirc = qf.QuantumCircuit()\n",
    "HFcirc.add_gate(qf.make_gate('X', 0, 0))\n",
    "HFcirc.add_gate(qf.make_gate('X', 1, 1))\n",
    "\n",
    "# Initialize a quantum computer and apply your circuit\n",
    "\n",
    "# Print the QuantumComputer to make sure it works!"
   ]
  },
  {
   "cell_type": "markdown",
   "metadata": {},
   "source": [
    "At this point it is important to introduce the idea that the second quantized anihilation ($\\hat{a}_j^\\dagger$) and creation ($\\hat{a}_j^\\dagger$) operators (for spin orbital $j$) can be exactly mapped to the previously discussed $X_j$, $Y_j$, and $Z_j$ gates. There are several appraches to acomplish this, but the simplest is the Jorder-Wigner transformation which maps $\\hat{a}_j$ to $\\frac{1}{\\sqrt{2}}\\prod_{k=0}^{j-1}Z_k(X_j + iY_j)$ and $\\hat{a}_j^\\dagger$ to $\\frac{1}{\\sqrt{2}}\\prod_{k=0}^{j-1}Z_k(X_j - iY_j)$. \n",
    "\n",
    "The second quantized Hamiltonian can then be written in \"qubit form\" as:\n",
    "\n",
    "$\\hat{H}_{\\rm{qubit}} = E_o + \\sum_{\\gamma} h_\\gamma V_{\\gamma}$\n",
    "\n",
    "where $h_\\gamma$ is a real coeficient, and $V_{\\gamma}$ is a product of $X$, $Y$, and $Z$ gates."
   ]
  },
  {
   "cell_type": "markdown",
   "metadata": {},
   "source": [
    "For H$_2$ at $r_{H-H}=0.75$ the qubit Hamiltonian operator can be assembled using qforte as:"
   ]
  },
  {
   "cell_type": "code",
   "execution_count": 13,
   "metadata": {},
   "outputs": [],
   "source": [
    "V = [qf.QuantumCircuit(),\n",
    "qf.build_circuit('Z_0'),\n",
    "qf.build_circuit('Z_1'),\n",
    "qf.build_circuit('Z_2'),\n",
    "qf.build_circuit('Z_3'),\n",
    "qf.build_circuit('Z_0 Z_1'),\n",
    "qf.build_circuit('Y_0 X_1 X_2 Y_3'),\n",
    "qf.build_circuit('Y_0 Y_1 X_2 X_3'),\n",
    "qf.build_circuit('X_0 X_1 Y_2 Y_3'),\n",
    "qf.build_circuit('X_0 Y_1 Y_2 X_3'),\n",
    "qf.build_circuit('Z_0 Z_2'),\n",
    "qf.build_circuit('Z_0 Z_3'),\n",
    "qf.build_circuit('Z_1 Z_2'),\n",
    "qf.build_circuit('Z_1 Z_3'),\n",
    "qf.build_circuit('Z_2 Z_3')]\n",
    "\n",
    "h = [-0.098863969784274,\n",
    "0.1711977489805748,\n",
    "0.1711977489805748,\n",
    "-0.222785930242875,\n",
    "-0.222785930242875,\n",
    "0.1686221915724993,\n",
    "0.0453222020577776,\n",
    "-0.045322202057777,\n",
    "-0.045322202057777,\n",
    "0.0453222020577776,\n",
    "0.1205448220329002,\n",
    "0.1658670240906778,\n",
    "0.1658670240906778,\n",
    "0.1205448220329002,\n",
    "0.1743484418396386]"
   ]
  },
  {
   "cell_type": "code",
   "execution_count": 14,
   "metadata": {},
   "outputs": [],
   "source": [
    "H2_qubit_hamiltonian = qf.QuantumOperator()\n",
    "for gamma in range(len(h)):\n",
    "    H2_qubit_hamiltonian.add_term(h[gamma], V[gamma])"
   ]
  },
  {
   "cell_type": "markdown",
   "metadata": {},
   "source": [
    "#### Exercise 3b: Use an experiment to measure the HF Energy of H$_2$"
   ]
  },
  {
   "cell_type": "code",
   "execution_count": 15,
   "metadata": {},
   "outputs": [],
   "source": [
    "# My code:\n",
    "\n"
   ]
  },
  {
   "cell_type": "markdown",
   "metadata": {},
   "source": [
    "The correct HF energy is  -1.11668438707 Eh"
   ]
  },
  {
   "cell_type": "markdown",
   "metadata": {},
   "source": [
    "## 3) Using QForte for VQE"
   ]
  },
  {
   "cell_type": "markdown",
   "metadata": {},
   "source": [
    "Now we have all the basic ingredients we need to implement a variational quantum eigensolver (VQE) algorithm. This approach has become popular on so called Near-Term quantum devices as it displaces the overhad of long quantum circuts to using a far greater number of indivdual measurements. The objective (loosely stated) is to find a set of optemizable parametes {$\\theta$} which can be used in a quantum circuit to minimize the measured value for the qubit Hamiltonian.  \n",
    "\n",
    "A natural choice is to opemize the parameter $\\theta$ for the operator $e^{\\theta (\\hat{\\tau} - \\hat{\\tau}^\\dagger)}$, but fist we need some bookkeeping functions to parameterize the operator."
   ]
  },
  {
   "cell_type": "code",
   "execution_count": 20,
   "metadata": {},
   "outputs": [],
   "source": [
    "# Define T_sq\n",
    "T_sq = [[(3,2,1,0), 0.0]]"
   ]
  },
  {
   "cell_type": "code",
   "execution_count": 22,
   "metadata": {},
   "outputs": [
    {
     "name": "stdout",
     "output_type": "stream",
     "text": [
      "Optimization terminated successfully.\n",
      "         Current function value: -1.137270\n",
      "         Iterations: 19\n",
      "         Function evaluations: 38\n"
     ]
    }
   ],
   "source": [
    "ref = [1,1,0,0]\n",
    "\n",
    "myVQE = qf.vqe.UCCVQE(ref, T_sq, H2_qubit_hamiltonian)\n",
    "myVQE.do_vqe(maxiter=1000, fast=False)\n",
    "Energy = myVQE.get_energy()\n",
    "initial_Energy = myVQE.get_inital_guess_energy()"
   ]
  },
  {
   "cell_type": "code",
   "execution_count": null,
   "metadata": {},
   "outputs": [],
   "source": []
  }
 ],
 "metadata": {
  "kernelspec": {
   "display_name": "Python 3",
   "language": "python",
   "name": "python3"
  },
  "language_info": {
   "codemirror_mode": {
    "name": "ipython",
    "version": 3
   },
   "file_extension": ".py",
   "mimetype": "text/x-python",
   "name": "python",
   "nbconvert_exporter": "python",
   "pygments_lexer": "ipython3",
   "version": "3.6.9"
  }
 },
 "nbformat": 4,
 "nbformat_minor": 2
}
