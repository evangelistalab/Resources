{
 "cells": [
  {
   "cell_type": "code",
   "execution_count": 11,
   "metadata": {},
   "outputs": [],
   "source": [
    "import qforte\n",
    "from qforte.qkd.qk import qk_energy\n",
    "from qforte.qkd.mrsqk import mrsqk_energy"
   ]
  },
  {
   "cell_type": "markdown",
   "metadata": {},
   "source": [
    "# Example notebook for using QForte to perfom Multireference Selected Quantum Krylov calculations"
   ]
  },
  {
   "cell_type": "markdown",
   "metadata": {},
   "source": [
    "# Must use branch mrsqk_pilot"
   ]
  },
  {
   "cell_type": "markdown",
   "metadata": {},
   "source": [
    "NOTE: Before running this notebook you will need to have installed Psi4, OpenFermion, and the OpenFermion-Psi4 plugin. There are all avalible via intall through conda-forge and/or pip."
   ]
  },
  {
   "cell_type": "markdown",
   "metadata": {},
   "source": [
    "Initialize a QForte molecule, and specify what backend to use. Currently there is only support for using Openfermion-Psi4, but will eventually include direct conections to Psi4 and Forte. First we need to define some input arguments. "
   ]
  },
  {
   "cell_type": "code",
   "execution_count": 4,
   "metadata": {},
   "outputs": [],
   "source": [
    "# System factory arguments\n",
    "system_type = 'molecule'\n",
    "build_type = 'openfermion'\n",
    "\n",
    "\n",
    "\n",
    "# Molecule arguments\n",
    "geometry = [('Be', (0., 0., 0.))]\n",
    "basis = 'sto-3g'\n",
    "multiplicity = 1\n",
    "\n",
    "\n",
    "# Run arguments for backend\n",
    "run_scf = 1\n",
    "run_mp2 = 1\n",
    "run_ccsd = 1\n",
    "run_fci = 1"
   ]
  },
  {
   "cell_type": "markdown",
   "metadata": {},
   "source": [
    "We need to initialize an adapter object, wichin in trun is able to ruturn a molecule object."
   ]
  },
  {
   "cell_type": "code",
   "execution_count": 12,
   "metadata": {},
   "outputs": [
    {
     "name": "stdout",
     "output_type": "stream",
     "text": [
      "Using standard openfermion hamiltonian ordering!\n"
     ]
    }
   ],
   "source": [
    "# Initialize the adapter (specific to backend and system type)\n",
    "adapter = qforte.system.system_factory(mol_geometry=geometry, basis=basis,\n",
    "                                       multiplicity=1, description='Be_mrsqk_test')\n",
    "\n",
    "# Populate the attributes by calling run() with backend run args. we can store the ccsd\n",
    "# amplitudes \n",
    "adapter.run(run_scf=run_scf, run_mp2=run_mp2, run_ccsd=run_ccsd,\n",
    "                   run_fci=run_fci, store_uccsd_amps=True)\n"
   ]
  },
  {
   "cell_type": "markdown",
   "metadata": {},
   "source": [
    "Get the molecule from the adapter."
   ]
  },
  {
   "cell_type": "code",
   "execution_count": 13,
   "metadata": {},
   "outputs": [],
   "source": [
    "Be = adapter.get_molecule()"
   ]
  },
  {
   "cell_type": "markdown",
   "metadata": {},
   "source": [
    "From the backend, several values are avalible in the molecule for reference."
   ]
  },
  {
   "cell_type": "code",
   "execution_count": 14,
   "metadata": {},
   "outputs": [
    {
     "name": "stdout",
     "output_type": "stream",
     "text": [
      "\n",
      "Qubit Hamiltonian\n",
      " -9.009402[] +2.243229[Z0] -0.038062[Y0 Z1 Y2] -0.038062[X0 Z1 X2] +2.243229[Z1] -0.038062[Y1 Z2 Y3] -0.038062[X1 Z2 X3] -0.046692[Z2] -0.046692[Z3] -0.148432[Z4] -0.148432[Z5] -0.148432[Z6] -0.148432[Z7] -0.148432[Z8] -0.148432[Z9] +0.568833[Z0 Z1] -0.063333[Y0 Y2] -0.063333[X0 X2] -0.063333[Z0 Y1 Z2 Y3] -0.063333[Z0 X1 Z2 X3] +0.011074[Y0 X1 X2 Y3] -0.011074[X0 X1 Y2 Y3] -0.011074[Y0 Y1 X2 X3] +0.011074[X0 Y1 Y2 X3] +0.003900[Y0 X1 X4 Y5] -0.003900[X0 X1 Y4 Y5] -0.003900[Y0 Y1 X4 X5] +0.003900[X0 Y1 Y4 X5] +0.003900[Y0 X1 X6 Y7] -0.003900[X0 X1 Y6 Y7] -0.003900[Y0 Y1 X6 X7] +0.003900[X0 Y1 Y6 X7] +0.003900[Y0 X1 X8 Y9] -0.003900[X0 X1 Y8 Y9] -0.003900[Y0 Y1 X8 X9] +0.003900[X0 Y1 Y8 X9] +0.131735[Z0 Z2] +0.142809[Z0 Z3] -0.003561[Y0 Z1 Y2 Z3] -0.003561[X0 Z1 X2 Z3] -0.005141[Y0 Z1 Z2 X3 X4 Y5] +0.005141[X0 Z1 Z2 X3 Y4 Y5] +0.005141[Y0 Z1 Z2 Y3 X4 X5] -0.005141[X0 Z1 Z2 Y3 Y4 X5] -0.005141[Y0 Z1 Z2 X3 X6 Y7] +0.005141[X0 Z1 Z2 X3 Y6 Y7] +0.005141[Y0 Z1 Z2 Y3 X6 X7] -0.005141[X0 Z1 Z2 Y3 Y6 X7] -0.005141[Y0 Z1 Z2 X3 X8 Y9] +0.005141[X0 Z1 Z2 X3 Y8 Y9] +0.005141[Y0 Z1 Z2 Y3 X8 X9] -0.005141[X0 Z1 Z2 Y3 Y8 X9] +0.138407[Z0 Z4] -0.007376[Y0 Z1 Y2 Z4] -0.007376[X0 Z1 X2 Z4] +0.142307[Z0 Z5] -0.002235[Y0 Z1 Y2 Z5] -0.002235[X0 Z1 X2 Z5] +0.138407[Z0 Z6] -0.007376[Y0 Z1 Y2 Z6] -0.007376[X0 Z1 X2 Z6] +0.142307[Z0 Z7] -0.002235[Y0 Z1 Y2 Z7] -0.002235[X0 Z1 X2 Z7] +0.138407[Z0 Z8] -0.007376[Y0 Z1 Y2 Z8] -0.007376[X0 Z1 X2 Z8] +0.142307[Z0 Z9] -0.002235[Y0 Z1 Y2 Z9] -0.002235[X0 Z1 X2 Z9] +0.142809[Z1 Z2] -0.003561[Y1 Y3] -0.003561[X1 X3] +0.005141[Y1 X2 X4 Y5] +0.005141[X1 X2 X4 X5] +0.005141[Y1 Y2 Y4 Y5] +0.005141[X1 Y2 Y4 X5] +0.005141[Y1 X2 X6 Y7] +0.005141[X1 X2 X6 X7] +0.005141[Y1 Y2 Y6 Y7] +0.005141[X1 Y2 Y6 X7] +0.005141[Y1 X2 X8 Y9] +0.005141[X1 X2 X8 X9] +0.005141[Y1 Y2 Y8 Y9] +0.005141[X1 Y2 Y8 X9] +0.131735[Z1 Z3] +0.142307[Z1 Z4] -0.002235[Y1 Z2 Y3 Z4] -0.002235[X1 Z2 X3 Z4] +0.138407[Z1 Z5] -0.007376[Y1 Z2 Y3 Z5] -0.007376[X1 Z2 X3 Z5] +0.142307[Z1 Z6] -0.002235[Y1 Z2 Y3 Z6] -0.002235[X1 Z2 X3 Z6] +0.138407[Z1 Z7] -0.007376[Y1 Z2 Y3 Z7] -0.007376[X1 Z2 X3 Z7] +0.142307[Z1 Z8] -0.002235[Y1 Z2 Y3 Z8] -0.002235[X1 Z2 X3 Z8] +0.138407[Z1 Z9] -0.007376[Y1 Z2 Y3 Z9] -0.007376[X1 Z2 X3 Z9] +0.101034[Z2 Z3] +0.021702[Y2 X3 X4 Y5] -0.021702[X2 X3 Y4 Y5] -0.021702[Y2 Y3 X4 X5] +0.021702[X2 Y3 Y4 X5] +0.021702[Y2 X3 X6 Y7] -0.021702[X2 X3 Y6 Y7] -0.021702[Y2 Y3 X6 X7] +0.021702[X2 Y3 Y6 X7] +0.021702[Y2 X3 X8 Y9] -0.021702[X2 X3 Y8 Y9] -0.021702[Y2 Y3 X8 X9] +0.021702[X2 Y3 Y8 X9] +0.080697[Z2 Z4] +0.102399[Z2 Z5] +0.080697[Z2 Z6] +0.102399[Z2 Z7] +0.080697[Z2 Z8] +0.102399[Z2 Z9] +0.102399[Z3 Z4] +0.080697[Z3 Z5] +0.102399[Z3 Z6] +0.080697[Z3 Z7] +0.102399[Z3 Z8] +0.080697[Z3 Z9] +0.112465[Z4 Z5] +0.006062[Y4 X5 X6 Y7] -0.006062[X4 X5 Y6 Y7] -0.006062[Y4 Y5 X6 X7] +0.006062[X4 Y5 Y6 X7] +0.006062[Y4 X5 X8 Y9] -0.006062[X4 X5 Y8 Y9] -0.006062[Y4 Y5 X8 X9] +0.006062[X4 Y5 Y8 X9] +0.094278[Z4 Z6] +0.100340[Z4 Z7] +0.094278[Z4 Z8] +0.100340[Z4 Z9] +0.100340[Z5 Z6] +0.094278[Z5 Z7] +0.100340[Z5 Z8] +0.094278[Z5 Z9] +0.112465[Z6 Z7] +0.006062[Y6 X7 X8 Y9] -0.006062[X6 X7 Y8 Y9] -0.006062[Y6 Y7 X8 X9] +0.006062[X6 Y7 Y8 X9] +0.094278[Z6 Z8] +0.100340[Z6 Z9] +0.100340[Z7 Z8] +0.094278[Z7 Z9] +0.112465[Z8 Z9]\n",
      "\n",
      "Psi4 Energies\n",
      "---------------------------------------------------\n",
      "hf_energy:                      -14.351880476202016\n",
      "mp2_energy:                     -14.376238433837917\n",
      "ccsd_energy:                    -14.403650748983882\n",
      "fci_energy:                     -14.403655108067671\n"
     ]
    }
   ],
   "source": [
    "# Hamiltonian\n",
    "Hamiltonian = Be.get_hamiltonian()\n",
    "print('\\nQubit Hamiltonian\\n', Hamiltonian.str())\n",
    "\n",
    "# Various energies from psi4 specified in run args\n",
    "print('\\nPsi4 Energies')\n",
    "print('---------------------------------------------------')\n",
    "print('hf_energy:                     ', Be.get_hf_energy())\n",
    "print('mp2_energy:                    ', Be.get_mp2_energy())\n",
    "print('ccsd_energy:                   ', Be.get_ccsd_energy())\n",
    "print('fci_energy:                    ', Be.get_fci_energy())"
   ]
  },
  {
   "cell_type": "markdown",
   "metadata": {},
   "source": [
    "# Multireference Selected Quantum Krylov"
   ]
  },
  {
   "cell_type": "markdown",
   "metadata": {},
   "source": [
    "This method builds a non-orthoganol Krylov space basis to set up a generalized eigenvalue problem $\\bar{\\mathbf{H}}\\mathbf{C} = \\mathbf{S}\\mathbf{C}\\mathbf{\\epsilon}$. The Krylov basis is generated by unitary real-time evolutions of orthogonal reference states. The basis vectors are thus given as $| \\Psi_\\alpha \\rangle = e^{-i n \\Delta t \\hat{H}}| \\Phi_I \\rangle$. The elemets of the $\\bar{\\mathbf{H}}$ and $\\mathbf{S}$ matrices can be measured using a quantum computer and the diagonalization performed clasically.   "
   ]
  },
  {
   "cell_type": "markdown",
   "metadata": {},
   "source": [
    "Here is a sample calculation for a berillium atom which demonstrates energy convergence with increasing number of basis vectors used."
   ]
  },
  {
   "cell_type": "code",
   "execution_count": 24,
   "metadata": {
    "scrolled": false
   },
   "outputs": [
    {
     "name": "stdout",
     "output_type": "stream",
     "text": [
      "\n",
      "-----------------------------------------------------\n",
      "        Multreference Selected Quantum Krylov   \n",
      "-----------------------------------------------------\n",
      "\n",
      "\n",
      "                   ==> MRSQK options <==\n",
      "-----------------------------------------------------------\n",
      "Initial reference:                        |1111000000>\n",
      "Dimension of reference space (d):         3\n",
      "Time evolutions per reference (s):        3\n",
      "Dimension of Krylov space (N):            12\n",
      "Delta t (in a.u.):                        0.5\n",
      "Trotter number (m):                       8\n",
      "Target root:                              0\n",
      "Use det. selection with sign:             False\n",
      "Use spin adapted references:              True\n",
      "Use fast version of algorithm:            True\n",
      "\n",
      "\n",
      "     ==> Initial QK options (for ref. selection)  <==\n",
      "-----------------------------------------------------------\n",
      "Number of initial time evolutions (s_o):  2\n",
      "Dimension of inital Krylov space (N_o):   3\n",
      "Initial delta t_o (in a.u.):              0.25\n",
      "\n",
      "\n",
      "    ==> Initial QK Matricies (for ref. selection)  <==\n",
      "-----------------------------------------------------------\n",
      "\n",
      "S initial:\n",
      "\n",
      "               1-0j  0.607923+0.792977j  -0.258836+0.962562j  \n",
      " 0.607923-0.792977j                1-0j   0.607894+0.792988j  \n",
      "-0.258836-0.962562j  0.607894-0.792988j                 1-0j  \n",
      "\n",
      "H initial:\n",
      "\n",
      "      -14.3519-0j      -8.72998-11.3768j        3.70236-13.818j  \n",
      "-8.72998+11.3768j  -14.3502-1.77636e-14j      -8.72772-11.3742j  \n",
      "  3.70236+13.818j      -8.72772+11.3742j  -14.3452-2.66454e-15j  \n",
      "\n",
      "Condition number of overlap mat k(S):    1.12e+06\n",
      "\n",
      "\n",
      "      ==> Initial QK Determinat selection summary  <==\n",
      "-----------------------------------------------------------\n",
      "\n",
      "Most important determinats:\n",
      "\n",
      "index                     determinant  \n",
      "----------------------------------------\n",
      "   1                  |1111000000>\n",
      "   2                  |1100110000>\n",
      "   3                  |1100001100>\n",
      "   4                  |1100000011>\n",
      "   5                  |1001110000>\n",
      "   6                  |1001001100>\n",
      "\n",
      "\n",
      "      ==> Small CI with spin adapted dets summary <==\n",
      "-----------------------------------------------------------\n",
      "\n",
      "List augmented to included all spin \n",
      "configurations for open shells.\n",
      "\n",
      "  Coeff                    determinant  \n",
      "----------------------------------------\n",
      "    0.9463                  |1111000000>\n",
      "   -0.1865                  |1100110000>\n",
      "   -0.1865                  |1100001100>\n",
      "   -0.1869                  |1100000011>\n",
      "   -0.0033                  |1001110000>\n",
      "    0.0033                  |0110110000>\n",
      "   -0.0033                  |1001001100>\n",
      "    0.0033                  |0110001100>\n",
      "\n",
      "\n",
      "        ==> Final MRSQK reference space summary <==\n",
      "-----------------------------------------------------------\n",
      "\n",
      "Ref  1\n",
      "---------------------------\n",
      "    1.0       |1111000000>\n",
      "\n",
      "Ref  2\n",
      "---------------------------\n",
      "   -1.0       |1100000011>\n",
      "\n",
      "Ref  3\n",
      "---------------------------\n",
      "   -1.0       |1100001100>\n",
      "\n",
      "\n",
      "                   ==> MRSQK summary <==\n",
      "-----------------------------------------------------------\n",
      "Condition number of overlap mat k(S):      8.66e+06\n",
      "Final MRSQK Energy:                       -14.4036500558\n",
      "\n",
      "---------------------------------------------------------\n",
      "hf_energy:                         -14.351880476202016\n",
      "mp2_energy:                        -14.376238433837917\n",
      "ccsd_energy:                       -14.403650748983882\n",
      "fci_energy:                        -14.403655108067671\n",
      "mrsqk_energy:                      -14.403650055784757\n"
     ]
    }
   ],
   "source": [
    "# First we need a reference state (Hartee-Fock usually). \n",
    "# In QForte, qubits are aranged as [alpha1, beta1, alpha2, beta2, .... ]\n",
    "Be_ref = [1,1,1,1,0,0,0,0,0,0]\n",
    "\n",
    "# parameters for MRSQK\n",
    "# target root\n",
    "root = 0\n",
    "\n",
    "# ∆t\n",
    "mr_dt = 0.5\n",
    "\n",
    "# trotter apprximation \n",
    "trot_number = 8\n",
    "\n",
    "# number of evolutions per reference\n",
    "s = 3\n",
    "\n",
    "# number of references\n",
    "d = 3\n",
    "\n",
    "# parameters of QK (used to select determinants in MR treatment)\n",
    "Ninit_states = 2\n",
    "s_0 = 2\n",
    "dt_0 = 0.25\n",
    "\n",
    "\n",
    "MRSQK_output = mrsqk_energy(Be, d, s,  mr_dt, Be_ref,\n",
    "                        trot_order = trot_number,\n",
    "                        use_phase_based_selection=False,\n",
    "                        use_spin_adapted_refs=True,\n",
    "                        target_root=root , \n",
    "                        s_0=Ninit_states, \n",
    "                        inital_dt=dt_0, \n",
    "                        fast=True,\n",
    "                        print_mats=False, \n",
    "                        return_all_eigs=True,\n",
    "                        return_S=True, \n",
    "                        return_Hbar=True)\n",
    "\n",
    "Emrsqk = MRSQK_output[0]\n",
    "S = MRSQK_output[2]\n",
    "Hbar = MRSQK_output[3]\n",
    "\n",
    "print('\\n---------------------------------------------------------')\n",
    "print('hf_energy:                        ', Be.get_hf_energy())\n",
    "print('mp2_energy:                       ', Be.get_mp2_energy())\n",
    "print('ccsd_energy:                      ', Be.get_ccsd_energy())\n",
    "print('fci_energy:                       ', Be.get_fci_energy())\n",
    "print('mrsqk_energy:                     ', Emrsqk)\n",
    "\n",
    "\n"
   ]
  }
 ],
 "metadata": {
  "kernelspec": {
   "display_name": "Python 3",
   "language": "python",
   "name": "python3"
  },
  "language_info": {
   "codemirror_mode": {
    "name": "ipython",
    "version": 3
   },
   "file_extension": ".py",
   "mimetype": "text/x-python",
   "name": "python",
   "nbconvert_exporter": "python",
   "pygments_lexer": "ipython3",
   "version": "3.6.9"
  }
 },
 "nbformat": 4,
 "nbformat_minor": 2
}
