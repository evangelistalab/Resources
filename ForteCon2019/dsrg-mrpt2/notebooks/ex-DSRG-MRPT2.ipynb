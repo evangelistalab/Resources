{
 "cells": [
  {
   "cell_type": "code",
   "execution_count": null,
   "metadata": {},
   "outputs": [],
   "source": [
    "import psi4\n",
    "import forte"
   ]
  },
  {
   "cell_type": "code",
   "execution_count": null,
   "metadata": {},
   "outputs": [],
   "source": [
    "def run_psi4_casscf(geom, basis, occ, reference='rhf'):\n",
    "    \"\"\"\n",
    "    Run a Psi4 CASSCF.\n",
    "    :param geom: a string for molecular geometry\n",
    "    :param basis: a string for basis set\n",
    "    :param occ: a map of {mo_space: occupation}, e.g., {'docc': [3,0,1,1]}\n",
    "    :param reference: a string for the type of reference\n",
    "    :return: a tuple of (casscf energy, psi4 Wavefunction)\n",
    "    \"\"\"\n",
    "    \n",
    "    if not all(space in occ for space in ['rdocc', 'active', 'docc']):\n",
    "        raise ValueError(f'{occ} does not contain keys \"rdocc\", \"docc\", or \"active\".')\n",
    "    \n",
    "    psi4.core.clean()\n",
    "    mol = psi4.geometry(geom)\n",
    "    \n",
    "    options_dict = {'basis': basis,\n",
    "                    'reference': reference,\n",
    "                    'scf_type': 'pk',\n",
    "                    'maxiter': 150,\n",
    "                    'e_convergence': 1.0e-8,\n",
    "                    'd_convergence': 1.0e-6,\n",
    "                    'docc': occ['docc'],\n",
    "                    'restricted_docc': occ['rdocc'],\n",
    "                    'active': occ['active'],\n",
    "                    'mcscf_maxiter': 100,\n",
    "                    'mcscf_e_convergence': 1.0e-8,\n",
    "                    'mcscf_r_convergence': 1.0e-6,\n",
    "                    'mcscf_diis_start': 20\n",
    "                   }\n",
    "    \n",
    "    psi4.set_options(options_dict)\n",
    "    \n",
    "    psi4.core.set_output_file('output.dat', False)\n",
    "    Ecas, wfn = psi4.energy('casscf', return_wfn=True)\n",
    "    psi4.core.clean()\n",
    "    return Ecas, wfn"
   ]
  },
  {
   "cell_type": "code",
   "execution_count": null,
   "metadata": {},
   "outputs": [],
   "source": [
    "geom = \"\"\"0 1\n",
    "O\n",
    "H 1 1.2\n",
    "H 1 1.2 2 120.0\n",
    "\"\"\"\n",
    "\n",
    "basis = '6-31g'\n",
    "\n",
    "occ = {'docc': [3,0,1,1], 'rdocc': [2,0,0,0], 'active': [2,0,1,2]}"
   ]
  },
  {
   "cell_type": "code",
   "execution_count": null,
   "metadata": {},
   "outputs": [],
   "source": [
    "# Valence orbitals of water\n",
    "\n",
    "import matplotlib.pyplot as plt\n",
    "import matplotlib.image as mpimg\n",
    "\n",
    "fig = plt.figure(figsize=(6,4), dpi=150)\n",
    "ax = plt.subplot(111)\n",
    "img = mpimg.imread('water_valence_orbs.png')\n",
    "ax.set_axis_off()\n",
    "ax.imshow(img)"
   ]
  },
  {
   "cell_type": "code",
   "execution_count": null,
   "metadata": {},
   "outputs": [],
   "source": [
    "Ecas, wfn = run_psi4_casscf(geom, basis, occ, 'rhf')\n",
    "print(f\"CASSCF energy: {Ecas:.12f} Eh\")"
   ]
  },
  {
   "cell_type": "code",
   "execution_count": null,
   "metadata": {},
   "outputs": [],
   "source": [
    "from forte import forte_options\n",
    "\n",
    "def pre_dsrg(ref_wfn, mo_spaces, rdm_level=3):\n",
    "    \"\"\"\n",
    "    Preparation step for DSRG: compute a CAS and its RDMs.\n",
    "    :param ref_wfn: reference wave function from psi4\n",
    "    :param mo_spaces: a dictionary {mo_space: occupation}, e.g., {'ACTIVE': [0,0,0,0]}\n",
    "    :param rdm_level: max RDM to be computed\n",
    "    :return: a tuple of (reference energy, MOSpaceInfo, ForteIntegrals, RDMs)\n",
    "    \"\"\"\n",
    "    \n",
    "    forte.startup()\n",
    "    \n",
    "    # pass Psi4 options to Forte\n",
    "    options = psi4.core.get_options()\n",
    "    options.set_current_module('FORTE')\n",
    "    forte_options.update_psi_options(options)\n",
    "    \n",
    "    # create a MOSpaceInfo object\n",
    "    mo_space_info = forte.make_mo_space_info_from_map(wfn, mo_spaces, [])\n",
    "    \n",
    "    # make a ForteIntegral object\n",
    "    ints = forte.make_forte_integrals(ref_wfn, options, mo_space_info)\n",
    "\n",
    "    # create active space integrals for CASCI\n",
    "    as_ints = forte.make_active_space_ints(mo_space_info, ints, \"ACTIVE\", [\"RESTRICTED_DOCC\"]);\n",
    "    \n",
    "    # SCFInfo object: stores doccpi, orbital energies, etc.\n",
    "    scf_info = forte.SCFInfo(ref_wfn)\n",
    "    \n",
    "    # StateInfo: state irrep, multiplicity, nalpha electron, etc.\n",
    "    state = forte.make_state_info_from_psi_wfn(ref_wfn)\n",
    "    \n",
    "    # build a map {StateInfo: a list of weights} for multi-state computations\n",
    "    state_weights_map = forte.make_state_weights_map(forte_options, ref_wfn)\n",
    "    \n",
    "    # converts {StateInfo: weights} to {StateInfo: nroots}\n",
    "    state_map = forte.to_state_nroots_map(state_weights_map)\n",
    "    \n",
    "    # create an active space solver object and compute the energy\n",
    "    as_solver_type = 'FCI'  # 'CAS', 'ACI', 'DMRG', 'V2RDM'\n",
    "    as_solver = forte.make_active_space_solver(as_solver_type, state_map, scf_info,\n",
    "                                               mo_space_info, as_ints, forte_options)\n",
    "    state_energies_list = as_solver.compute_energy()  # a map {StateInfo: a list of energies}\n",
    "    \n",
    "    # compute averaged energy --- reference energy for DSRG\n",
    "    Eref = forte.compute_average_state_energy(state_energies_list, state_weights_map)\n",
    "    \n",
    "    # compute RDMs\n",
    "    rdms = as_solver.compute_average_rdms(state_weights_map, rdm_level)\n",
    "    \n",
    "    # semicanonicalize orbitals\n",
    "    semi = forte.SemiCanonical(mo_space_info, ints, forte_options)\n",
    "    semi.semicanonicalize(rdms, rdm_level)\n",
    "        \n",
    "    return Eref, mo_space_info, ints, rdms, as_ints"
   ]
  },
  {
   "cell_type": "code",
   "execution_count": null,
   "metadata": {},
   "outputs": [],
   "source": [
    "mo_spaces = {'FROZEN_DOCC': [1,0,0,0],\n",
    "             'RESTRICTED_DOCC': [1,0,0,0],\n",
    "             'ACTIVE': [2,0,1,2]}\n",
    "\n",
    "Eref, mo_space_info, ints, rdms, as_ints = pre_dsrg(wfn, mo_spaces)\n",
    "print(f\"Forte reference energy:  {Eref:18.12f} Eh\")\n",
    "print(f\"CASSCF energy from Psi4: {Ecas:18.12f} Eh\")"
   ]
  },
  {
   "cell_type": "markdown",
   "metadata": {},
   "source": [
    "# Einstein summation convention is assumed throughout this notebook !!!\n",
    "\n",
    "For example:\n",
    "\n",
    "\\begin{equation}\n",
    "v^{ab}_{ij} t^{ij}_{ab} \\equiv \\sum_{ij} \\sum_{ab} v^{ab}_{ij} t^{ij}_{ab} = \\sum_{ij} \\sum_{ab} v^{ij}_{ab} t^{ij}_{ab}\n",
    "\\end{equation}"
   ]
  },
  {
   "cell_type": "markdown",
   "metadata": {},
   "source": [
    "# Orbital indices conventions\n",
    "\n",
    "Core orbitals ($\\bf C$): $m, n$\n",
    "\n",
    "Active orbitals ($\\bf A$): $u,v,w,x,y,z$\n",
    "\n",
    "Virtual orbitals ($\\bf V$): $e, f$\n",
    "\n",
    "Generalized holes ($\\bf H = C \\cup A$): $i,j,k,l$\n",
    "\n",
    "Generalized particles ($\\bf P = A \\cup V$): $a,b,c,d$\n",
    "\n",
    "Any generic orbital: $p, q, r, s$"
   ]
  },
  {
   "cell_type": "markdown",
   "metadata": {},
   "source": [
    "# Build reference energy using densities, just for fun\n",
    "\n",
    "The reference energy is given by\n",
    "\\begin{align}\n",
    "E_\\text{ref} = h^{i}_{j} \\gamma_{i}^{j} + \\frac{1}{4} v^{ij}_{kl} \\gamma^{kl}_{ij}.\n",
    "\\end{align}\n",
    "The densities are labeled by generalized hole indices in the above equation and they are given by\n",
    "\\begin{align}\n",
    "\\gamma^{i}_{j} &= \\langle \\Psi_0 | \\hat{a}^\\dagger_i \\hat{a}_j | \\Psi_0 \\rangle, \\\\\n",
    "\\gamma^{ij}_{kl} &= \\langle \\Psi_0 | \\hat{a}^\\dagger_i \\hat{a}^\\dagger_j \\hat{a}_l \\hat{a}_k | \\Psi_0 \\rangle .\n",
    "\\end{align}\n",
    "\n",
    "We can implement the reference energy using this way.\n",
    "However, the RDMs from ActiveSpaceSolver are active-space only, that is, we only have the following active-space densities\n",
    "\\begin{align}\n",
    "\\gamma^{u}_{v} &= \\langle \\Psi_0 | \\hat{a}^\\dagger_u \\hat{a}_v | \\Psi_0 \\rangle, \\\\\n",
    "\\gamma^{uv}_{xy} &= \\langle \\Psi_0 | \\hat{a}^\\dagger_u \\hat{a}^\\dagger_v \\hat{a}_y \\hat{a}_x | \\Psi_0 \\rangle .\n",
    "\\end{align}\n",
    "\n",
    "Due to the structure of active-space-based methods, let us simplify the reference energy expression\n",
    "\\begin{align}\n",
    "E_\\text{ref} &= \\sum_{m} h^{m}_{m} + h^{u}_{v} \\gamma_{u}^{v} + \\frac{1}{2} \\sum_{mn} v^{mn}_{mn} + \\sum_{m} \\sum_{uv} v^{mu}_{mv} \\gamma^{v}_{u} + \\frac{1}{4} v^{uv}_{xy} \\gamma^{xy}_{uv} \\\\\n",
    "&= \\underbrace{\\sum_{m} h^{m}_{m} + \\frac{1}{2} \\sum_{mn} v^{mn}_{mn}}_\\text{scalar term} + \\underbrace{\\left( h^{u}_{v} + \\sum_{m} v^{mu}_{mv} \\right)}_\\text{active one-body integrals} \\gamma_{u}^{v} + \\frac{1}{4} v^{uv}_{xy} \\gamma^{xy}_{uv} .\n",
    "\\end{align}\n",
    "At this point, we can implement the reference energy in a straightforward way."
   ]
  },
  {
   "cell_type": "code",
   "execution_count": null,
   "metadata": {},
   "outputs": [],
   "source": [
    "import numpy as np"
   ]
  },
  {
   "cell_type": "code",
   "execution_count": null,
   "metadata": {},
   "outputs": [],
   "source": [
    "# TODO: figure out core, active and virtual MO indices\n",
    "core_mos = None\n",
    "actv_mos = None\n",
    "virt_mos = None\n",
    "\n",
    "mos = {'c': core_mos, 'a': actv_mos, 'v': virt_mos}\n",
    "nmos = {k: len(v) for k, v in mos.items()}\n",
    "\n",
    "nc, na, nv = nmos['c'], nmos['a'], nmos['v']\n",
    "\n",
    "print(f\"Core MOs: {mos['c']}; size: {nmos['c']}\")\n",
    "print(f\"Active MOs: {mos['a']}; size: {nmos['a']}\")\n",
    "print(f\"Virtual MOs: {mos['v']}; size: {nmos['v']}\")"
   ]
  },
  {
   "cell_type": "code",
   "execution_count": null,
   "metadata": {},
   "outputs": [],
   "source": [
    "# TODO: get densities\n",
    "D1 = {'a': None,\n",
    "      'b': None}\n",
    "D2 = {'aa': None,\n",
    "      'ab': None,\n",
    "      'bb': None}"
   ]
  },
  {
   "cell_type": "code",
   "execution_count": null,
   "metadata": {},
   "outputs": [],
   "source": [
    "# TODO: grab 1e-itegrals\n",
    "oei = {'a': {}, 'b': {}}\n",
    "for block in ['cc', 'ca', 'cv', 'aa', 'av', 'vv']:\n",
    "    pass"
   ]
  },
  {
   "cell_type": "code",
   "execution_count": null,
   "metadata": {},
   "outputs": [],
   "source": [
    "# TODO: compute oei core contributions to the reference energy\n",
    "Eref_ele1 = 0.0\n",
    "Eref_ele1"
   ]
  },
  {
   "cell_type": "code",
   "execution_count": null,
   "metadata": {
    "scrolled": true
   },
   "outputs": [],
   "source": [
    "# compute tei core-core contributions to the reference energy\n",
    "Eref_ele2 = 0.0\n",
    "\n",
    "\n",
    "\n",
    "Eref_ele2"
   ]
  },
  {
   "cell_type": "code",
   "execution_count": null,
   "metadata": {},
   "outputs": [],
   "source": [
    "# compute effective oei active contributions to the reference energy\n",
    "Eref_ele3 = 0.0\n",
    "\n",
    "\n",
    "\n",
    "Eref_ele3"
   ]
  },
  {
   "cell_type": "code",
   "execution_count": null,
   "metadata": {},
   "outputs": [],
   "source": [
    "# compute tei active-active contributions to the reference energy\n",
    "Eref_ele4 = 0.0\n",
    "\n",
    "\n",
    "\n",
    "Eref_ele4"
   ]
  },
  {
   "cell_type": "code",
   "execution_count": null,
   "metadata": {},
   "outputs": [],
   "source": [
    "# total electronic energy\n",
    "Eref_ele = Eref_ele1 + Eref_ele2 + Eref_ele3 + Eref_ele4\n",
    "\n",
    "# total energy\n",
    "Eref_hand = Eref_ele + as_ints.nuclear_repulsion_energy() + as_ints.frozen_core_energy()\n",
    "\n",
    "print(f\"Reference energy computed by hand:  {Eref_hand}\")\n",
    "print(f\"Reference energy computed by Forte: {Eref}\")\n",
    "assert(abs(Eref - Eref_hand) < 1.0e-10)"
   ]
  },
  {
   "cell_type": "markdown",
   "metadata": {},
   "source": [
    "# Build Fock matrix\n",
    "\n",
    "The spin-orbital generalized Fock matrix is given by:\n",
    "\n",
    "\\begin{align}\n",
    "f^p_q = h^p_q + \\sum_{m} v^{pm}_{qm} + \\sum_{uv} v^{pu}_{qv} \\gamma^{v}_{u}.\n",
    "\\end{align}\n",
    "\n",
    "**What to expect for the structure of Fock matrix?**"
   ]
  },
  {
   "cell_type": "code",
   "execution_count": null,
   "metadata": {},
   "outputs": [],
   "source": [
    "def build_fock(ints, oei, opdm):\n",
    "    \"\"\"\n",
    "    Build generalized Fock matrix.\n",
    "    :param ints: ForteIntegrals used to grab antisymmetrized 2e-integrals\n",
    "    :param oei: structrued 1e-integrals (reuse from previous cells) {spin: data}\n",
    "    :param opdm: structured 1RDM (reuse previous data) {spin: data}\n",
    "    :return: structured Fock matrix {spin: {block label: data}}\n",
    "    \"\"\"\n",
    "    # initialize with 1e-integrals\n",
    "    F = {'a': {k: v.copy() for k, v in oei['a'].items()},\n",
    "         'b': {k: v.copy() for k, v in oei['b'].items()}}\n",
    "    \n",
    "    mos = {'c': core_mos, 'a': actv_mos, 'v': virt_mos}\n",
    "    \n",
    "    # build alpha spin of Fock\n",
    "    F['a'] = build_fock_alpha(F['a'], ints, opdm, mos)\n",
    "    \n",
    "    # build beta spin of Fock\n",
    "    F['b'] = build_fock_beta(F['b'], ints, opdm, mos)\n",
    "    \n",
    "    return F"
   ]
  },
  {
   "cell_type": "code",
   "execution_count": null,
   "metadata": {},
   "outputs": [],
   "source": [
    "# TODO: build alpha Fock\n",
    "\n",
    "def build_fock_alpha(fock, ints, opdm, mos):\n",
    "    \"\"\"\n",
    "    Modify alpha spin Fock matrix.\n",
    "    :param fock: alpha Fock initialized with 1e-integrals with structure {block label: data}\n",
    "    :param ints: ForteIntegrals object\n",
    "    :param opdm: structured 1RDM (reuse previous data) {spin: data}\n",
    "    :param mos: a map of MOs {space label: a list of absolute indices}\n",
    "    :return: modified alpha Fock\n",
    "    \"\"\"\n",
    "    \n",
    "    \n",
    "    return fock"
   ]
  },
  {
   "cell_type": "code",
   "execution_count": null,
   "metadata": {},
   "outputs": [],
   "source": [
    "# TODO: build beta Fock\n",
    "\n",
    "def build_fock_beta(fock, ints, opdm, mos):\n",
    "    \"\"\"\n",
    "    Modify beta spin Fock matrix.\n",
    "    :param fock: beta Fock initialized with 1e-integrals with structure {block label: data}\n",
    "    :param ints: ForteIntegrals object\n",
    "    :param opdm: structured 1RDM (reuse previous data) {spin: data}\n",
    "    :param mos: a map of MOs {space label: a list of absolute indices}\n",
    "    :return: modified beta Fock\n",
    "    \"\"\"\n",
    "\n",
    "    \n",
    "    return fock"
   ]
  },
  {
   "cell_type": "code",
   "execution_count": null,
   "metadata": {},
   "outputs": [],
   "source": [
    "F = build_fock(ints, oei, D1)"
   ]
  },
  {
   "cell_type": "code",
   "execution_count": null,
   "metadata": {},
   "outputs": [],
   "source": [
    "for block in ['cc', 'ca', 'cv', 'aa', 'av', 'vv']:\n",
    "    print(f\"Block {block}\")\n",
    "    print(F['a'][block])\n",
    "    assert(np.all(np.abs(F['a'][block] - F['b'][block]) < 1.0e-10))"
   ]
  },
  {
   "cell_type": "markdown",
   "metadata": {},
   "source": [
    "### Grab orbital energies (diagonal elements of Fock)\n",
    "\n",
    "We will keep only one copy of orbital energies because alpha orbitals are equivalent to those of beta in this case."
   ]
  },
  {
   "cell_type": "code",
   "execution_count": null,
   "metadata": {},
   "outputs": [],
   "source": [
    "# grab orbital energies\n",
    "Fdiag = {'c': np.diag(F['a']['cc']),\n",
    "         'a': np.diag(F['a']['aa']),\n",
    "         'v': np.diag(F['a']['vv'])}\n",
    "Fdiag"
   ]
  },
  {
   "cell_type": "markdown",
   "metadata": {},
   "source": [
    "# Build cluster amplitudes\n",
    "\n",
    "The singles and doubles amplitudes are respectively expressed as\n",
    "\n",
    "\\begin{align}\n",
    "t_{a}^{i} &= \\left[ f_{a}^{i} + \\sum_{ux} (\\epsilon_{x} - \\epsilon_{u}) t_{ax}^{iu} \\gamma^{x}_{u} \\right] \\frac{ 1 - e^{-s \\left( \\Delta_{a}^{i} \\right)^2} }{\\Delta_{a}^{i}}, \\\\\n",
    "t_{ab}^{ij} &= v_{ab}^{ij} \\frac{ 1 - e^{-s \\left( \\Delta_{ab}^{ij} \\right)^2} }{\\Delta_{ab}^{ij}}.\n",
    "\\end{align}\n",
    "\n",
    "These expressions suggest that we need to first build doubles amplitudes and then singles."
   ]
  },
  {
   "cell_type": "markdown",
   "metadata": {},
   "source": [
    "### Flow parameter"
   ]
  },
  {
   "cell_type": "code",
   "execution_count": null,
   "metadata": {},
   "outputs": [],
   "source": [
    "flow_param = 1.0"
   ]
  },
  {
   "cell_type": "markdown",
   "metadata": {},
   "source": [
    "### Block labels for T1 and T2"
   ]
  },
  {
   "cell_type": "code",
   "execution_count": null,
   "metadata": {},
   "outputs": [],
   "source": [
    "# T1 blocks\n",
    "T1blocks = ['cv', 'ca', 'av']\n",
    "\n",
    "# T2 blocks\n",
    "T2blocks = ['ccvv', 'ccva', 'ccaa', 'cavv', 'cava', 'caaa', 'aavv', 'aava']"
   ]
  },
  {
   "cell_type": "markdown",
   "metadata": {},
   "source": [
    "### Regularizer"
   ]
  },
  {
   "cell_type": "code",
   "execution_count": null,
   "metadata": {},
   "outputs": [],
   "source": [
    "# TODO: regularize 2-body data\n",
    "def regularize_two_body(v, labels, Fdiag, s):\n",
    "    \"\"\"\n",
    "    Regularize data using v * (1 - exp(-s * D^2)) / D when v is a 4-way tensor.\n",
    "    :param v: a numpy ndarray of dimension 4\n",
    "    :param labels: a tuple of space names, should be the same size of the shape of v\n",
    "    :param Fdiag: orbital energies {space name: a list of energies}\n",
    "    :param s: the flow parameter\n",
    "    :return: modified 2-body data\n",
    "    \"\"\"\n",
    "    out = v.copy()\n",
    "    \n",
    "    \n",
    "    \n",
    "    return out"
   ]
  },
  {
   "cell_type": "markdown",
   "metadata": {},
   "source": [
    "### Compute T2\n",
    "\n",
    "\\begin{align}\n",
    "t_{ab}^{ij} = v_{ab}^{ij} \\frac{ 1 - e^{-s \\left( \\Delta_{ab}^{ij} \\right)^2} }{\\Delta_{ab}^{ij}}.\n",
    "\\end{align}"
   ]
  },
  {
   "cell_type": "code",
   "execution_count": null,
   "metadata": {},
   "outputs": [],
   "source": [
    "# TODO: build doubles amplitudes\n",
    "\n",
    "def build_t2_amplitudes(ints, Fdiag, s):\n",
    "    \"\"\"\n",
    "    Compute T2 amplitudes.\n",
    "    :param ints: ForteIntegrals object\n",
    "    :param Fdiag: orbital energies in format {space name: a list of energies}\n",
    "    :param s: the flow parameter\n",
    "    :return: T2 amplitudes in format {spin cases: {block label: data}}\n",
    "    \"\"\"\n",
    "    T2 = {'aa': {}, 'ab': {}, 'bb': {}}\n",
    "    mos = {'c': core_mos, 'a': actv_mos, 'v': virt_mos}\n",
    "    \n",
    "\n",
    "    \n",
    "    return T2"
   ]
  },
  {
   "cell_type": "code",
   "execution_count": null,
   "metadata": {},
   "outputs": [],
   "source": [
    "T2 = build_t2_amplitudes(ints, Fdiag, flow_param)\n",
    "print(np.linalg.norm(T2['aa']['cavv']))\n",
    "print(np.linalg.norm(T2['ab']['cavv']))\n",
    "print(np.linalg.norm(T2['bb']['cavv']))"
   ]
  },
  {
   "cell_type": "markdown",
   "metadata": {},
   "source": [
    "### Compute T1\n",
    "\n",
    "\\begin{align}\n",
    "t_{a}^{i} = \\left[ f_{a}^{i} + \\sum_{ux} (\\epsilon_{x} - \\epsilon_{u}) t_{ax}^{iu} \\gamma^{x}_{u} \\right] \\frac{ 1 - e^{-s \\left( \\Delta_{a}^{i} \\right)^2} }{\\Delta_{a}^{i}}.\n",
    "\\end{align}"
   ]
  },
  {
   "cell_type": "code",
   "execution_count": null,
   "metadata": {},
   "outputs": [],
   "source": [
    "# TODO: form the intermediate of T2 contracting with energy-weighted density\n",
    "\n",
    "def build_rfock_intermediate(F, T2, opdm, Fdiag):\n",
    "    \"\"\"\n",
    "    Build an intermediate of Fock + T2 contracting with energy-weighted density.\n",
    "    :param F: Fock matrix in format {spin cases: {block labels: data}}\n",
    "    :param T2: T2 amplitudes in format {spin cases: {block labels: data}}\n",
    "    :param opdm: 1RDM in format {spin cases: data}\n",
    "    :param Fdiag: orbital energies {space name: data}\n",
    "    :return: the intermediate f + t2 * ew_d\n",
    "    \"\"\"\n",
    "    iF = {'a': {k: F['a'][k].copy() for k in T1blocks},\n",
    "          'b': {k: F['b'][k].copy() for k in T1blocks}}\n",
    "    \n",
    "\n",
    "    \n",
    "    return iF"
   ]
  },
  {
   "cell_type": "code",
   "execution_count": null,
   "metadata": {},
   "outputs": [],
   "source": [
    "# TODO: regularize 1-body data\n",
    "def regularize_one_body(v, labels, Fdiag, s):\n",
    "    \"\"\"\n",
    "    Regularize data using v * (1 - exp(-s * D^2)) / D when v is a 2-way tensor.\n",
    "    :param v: a numpy ndarray of dimension 2\n",
    "    :param labels: a tuple of space names, should be the same size of the shape of v\n",
    "    :param Fdiag: orbital energies {space name: a list of energies}\n",
    "    :param s: the flow parameter\n",
    "    :return: modified 1-body data\n",
    "    \"\"\"\n",
    "    out = v.copy()\n",
    "\n",
    "    \n",
    "    \n",
    "    return out"
   ]
  },
  {
   "cell_type": "code",
   "execution_count": null,
   "metadata": {},
   "outputs": [],
   "source": [
    "# TODO: build singles amplitudes\n",
    "\n",
    "def build_t1_amplitudes(iF, T2, opdm, Fdiag, s):\n",
    "    \"\"\"\n",
    "    Compute T1 amplitudes.\n",
    "    :param iF: modified Fock matrix in format {spin cases: {block label: data}}\n",
    "    :param T2: doubles amplitudes {spin cases: {block label: data}}\n",
    "    :param opdm: 1RDM in format {spin cases: data}\n",
    "    :param Fdiag: orbital energies in format {space name: a list of energies}\n",
    "    :param s: the flow parameter\n",
    "    :return: T1 amplitudes in format {spin cases: {block label: data}}\n",
    "    \"\"\"\n",
    "    T1 = {'a': {}, 'b': {}}\n",
    "    mos = {'c': core_mos, 'a': actv_mos, 'v': virt_mos}\n",
    "    \n",
    "\n",
    "    \n",
    "    return T1"
   ]
  },
  {
   "cell_type": "code",
   "execution_count": null,
   "metadata": {},
   "outputs": [],
   "source": [
    "iF = build_rfock_intermediate(F, T2, D1, Fdiag)\n",
    "T1 = build_t1_amplitudes(iF, T2, D1, Fdiag, flow_param)"
   ]
  },
  {
   "cell_type": "markdown",
   "metadata": {},
   "source": [
    "# Renormalize one- and two-electron integrals\n",
    "\n",
    "The spin-orbital expression is given by\n",
    "\n",
    "\\begin{align}\n",
    "\\tilde{f}^i_a &= f^i_a \\left[ 1 + e^{-s (\\Delta^{i}_{a})^2} \\right] + e^{-s (\\Delta^{i}_{a})^2} \\sum_{ux} (\\epsilon_{x} - \\epsilon_{u}) t_{ax}^{iu} \\gamma^{x}_{u} , \\\\\n",
    "\\tilde{v}_{ab}^{ij} &= v_{ab}^{ij} \\left[ 1 + e^{-s(\\Delta_{ab}^{ij})^2} \\right] .\n",
    "\\end{align}"
   ]
  },
  {
   "cell_type": "code",
   "execution_count": null,
   "metadata": {},
   "outputs": [],
   "source": []
  },
  {
   "cell_type": "code",
   "execution_count": null,
   "metadata": {},
   "outputs": [],
   "source": []
  },
  {
   "cell_type": "code",
   "execution_count": null,
   "metadata": {},
   "outputs": [],
   "source": []
  },
  {
   "cell_type": "code",
   "execution_count": null,
   "metadata": {},
   "outputs": [],
   "source": []
  },
  {
   "cell_type": "code",
   "execution_count": null,
   "metadata": {},
   "outputs": [],
   "source": []
  }
 ],
 "metadata": {
  "kernelspec": {
   "display_name": "Python 3",
   "language": "python",
   "name": "python3"
  },
  "language_info": {
   "codemirror_mode": {
    "name": "ipython",
    "version": 3
   },
   "file_extension": ".py",
   "mimetype": "text/x-python",
   "name": "python",
   "nbconvert_exporter": "python",
   "pygments_lexer": "ipython3",
   "version": "3.6.8"
  }
 },
 "nbformat": 4,
 "nbformat_minor": 2
}
