{
 "cells": [
  {
   "cell_type": "markdown",
   "id": "df846341",
   "metadata": {},
   "source": [
    "# Evangelista Lab Rotation Project | Fall 2022\n",
    "\n",
    "In this project you will implement one of the basic methods of quantum chemistry, the configuration interaction approach.\n",
    "\n",
    "Instead of working with the Hamiltonian for a real molecule, **we will consider the Hubbard model in one dimension**.\n",
    "This Hamiltonian can capture the essence of a range of problems in chemistry, from the process of breaking a single bond to the physics of electrons in a solid."
   ]
  },
  {
   "attachments": {},
   "cell_type": "markdown",
   "id": "578df040",
   "metadata": {},
   "source": [
    "## The Hubbard Model\n",
    "\n",
    "The Hubbard model describes electrons on a lattice of discrete sites.\n",
    "Here we consider a one-dimensional system and enforce open boundary conditions (no periodicity).\n",
    "\n",
    "For a model with a number of sites equal to $N$, electrons can occupy any of the sites $i = 1, 2, \\ldots, N$ with either alpha (up, $\\uparrow$) or beta (down, $\\downarrow$) spin.\n",
    "An example of such a configuration is shown below\n",
    "<div>\n",
    "<img src=\"hubbard-model.png\" width=\"200\"/>\n",
    "</div>\n",
    "\n",
    "#### Representation of electron configurations\n",
    "To each configuration of electrons we associate a quantum state represented by a vector with entries equal to 0 or 1 and dimension $2N$. This vector represents the occupation of each site on the lattice, and we distinguish the case of a site occupied by an alpha or beta electron. A generic configuration of electrons looks like this\n",
    "\\begin{equation}\n",
    "| \\underbrace{n_{1\\uparrow} n_{2\\uparrow} \\cdots n_{N\\uparrow}}_{\\text{alpha}}\n",
    "  \\underbrace{n_{1\\downarrow} n_{2\\downarrow} \\cdots n_{N\\downarrow}}_{\\text{beta}} \\rangle\n",
    "\\end{equation}\n",
    "\n",
    "For example, for a lattice with two sites and zero electrons we have only one possible configuration\n",
    "\\begin{equation}\n",
    "| 000 000 \\rangle.\n",
    "\\end{equation}\n",
    "The state with one alpha electron on the first site is\n",
    "\\begin{equation}\n",
    "| 100 000 \\rangle,\n",
    "\\end{equation}\n",
    "while if the electron has beta spin and is on the first site we represent the state as\n",
    "\\begin{equation}\n",
    "| 000 100 \\rangle.\n",
    "\\end{equation}\n",
    "The configuration shown in the figure above corresponds to the state\n",
    "\\begin{equation}\n",
    "| 0110 0010 \\rangle.\n",
    "\\end{equation}\n",
    "\n",
    "#### Tasks: Becoming familiar with the Hubbard model\n",
    "\n",
    "1. Represent the four states shown above as three circles in a row and for each one indicate the electrons with up or down arrow.\n",
    "1. Write down the state for a 4 site Hubbard model with the last three sites occupied with alpha electrons. Write down the state for a 4 site Hubbard model with the site 1 and 3 occupied by both alpha and beta electrons.\n",
    "1. What is the maximum number of electrons that can fit in a Hubbard model with 16 sites?\n",
    "1. How many states you can write with three alpha electrons in 16 sites? (hint, remember that electrons are indistinguishable). How many states you can write with two alpha and two beta electrons in 16 sites?\n",
    "1. Write a Python code that will enumerate all the states with a given number of alpha electrons ($n_\\uparrow$) and beta electrons ($n_\\downarrow$). Extend your code to return the states, representing each state as a list of integers of size $2N$. Can you think of ways you could store this information that is more efficient in terms of computer memory?"
   ]
  },
  {
   "cell_type": "markdown",
   "id": "d07a36f3",
   "metadata": {},
   "source": [
    "## The Hubbard Hamiltonian\n",
    "\n",
    "The Hubbard Hamiltonian describes the interactions experienced by the electrons on the  lattice of discrete sites.\n",
    "For a lattice consisting of $N$ sites this Hamiltonian is given by\n",
    "\\begin{equation}\n",
    "{\\displaystyle {\\hat {H}}\n",
    "=\n",
    "-t \\sum _{i=1}^{N-1}\n",
    "\\left(\n",
    "\\hat{a}_{i\\uparrow}^{\\dagger} \\hat{a}_{i+1\\uparrow}\n",
    "+ \\hat{a}_{i+1\\uparrow}^{\\dagger} \\hat{a}_{i\\uparrow}\n",
    "+\\hat{a}_{i\\downarrow}^{\\dagger} \\hat{a}_{i+1\\downarrow}\n",
    "+ \\hat{a}_{i+1\\downarrow}^{\\dagger} \\hat{a}_{i\\downarrow}\n",
    "\\right)\n",
    "+ U \\sum _{i=1}^{N}{\\hat {n}}_{i\\uparrow }{\\hat {n}}_{i\\downarrow },}\n",
    "\\end{equation}\n",
    "where\n",
    "- The index $i$ labels the sites ($i = 1, 2, \\ldots, N$).\n",
    "- $t$ is a parameter that control the probability that an electron hops from one site ($i$) to its neighboring sites ($i + 1$ and $i - 1$).\n",
    "- $U$ is a parameter that controls the penalty for placing two electrons on the same site.\n",
    "- The operators $\\hat{a}_{i\\uparrow}^{\\dagger}$ and $\\hat{a}_{i\\uparrow}$ are **creation** and **annihilation** operators that create/destroy an electron on site $i$ and spin $\\alpha \\equiv \\uparrow$ (and similarly for $\\beta \\equiv \\downarrow$)\n",
    "- The operators $\\hat{n}_{i\\uparrow}= \\hat{a}^{\\dagger}_{i\\uparrow} \\hat{a}_{i\\uparrow}$ and $\\hat{n}_{i\\downarrow}= \\hat{a}^{\\dagger}_{i\\downarrow} \\hat{a}_{i\\downarrow}$ are **number** operators. They count the number of electrons on site $i$ and with spin up or down.\n",
    "\n",
    "#### Tasks: Becoming familiar with second quantization\n",
    "\n",
    "- [Read more about the Hubbard model on wikipedia](https://en.wikipedia.org/wiki/Hubbard_model).\n",
    "- Are you already familiar with the formalism of second quantization? If not, [check the wikipedia page](https://en.wikipedia.org/wiki/Second_quantization) and talk to your mentor about it."
   ]
  },
  {
   "cell_type": "markdown",
   "id": "414bd000",
   "metadata": {},
   "source": [
    "## The Rules of Second Quantization\n",
    "\n",
    "In this section you will learn and implement the rules of the second quantization formalism.\n",
    "\n",
    "The creation operator for an alpha electron \n",
    "\n",
    "**Assignment: Becoming familiar with second quantization**\n",
    "\n",
    "- [Read more about the Hubbard model on wikipedia](https://en.wikipedia.org/wiki/Hubbard_model).\n",
    "- Are you already familiar with the formalism of second quantization? If not, [check the wikipedia page](https://en.wikipedia.org/wiki/Second_quantization) and talk to your mentor about it."
   ]
  },
  {
   "cell_type": "code",
   "execution_count": null,
   "id": "916e1fa2",
   "metadata": {},
   "outputs": [],
   "source": []
  }
 ],
 "metadata": {
  "kernelspec": {
   "display_name": "Python 3 (ipykernel)",
   "language": "python",
   "name": "python3"
  },
  "language_info": {
   "codemirror_mode": {
    "name": "ipython",
    "version": 3
   },
   "file_extension": ".py",
   "mimetype": "text/x-python",
   "name": "python",
   "nbconvert_exporter": "python",
   "pygments_lexer": "ipython3",
   "version": "3.9.12"
  }
 },
 "nbformat": 4,
 "nbformat_minor": 5
}
